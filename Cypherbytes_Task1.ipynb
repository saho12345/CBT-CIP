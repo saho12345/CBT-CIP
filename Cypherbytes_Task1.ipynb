{
 "cells": [
  {
   "cell_type": "code",
   "execution_count": 13,
   "id": "07dff253-595f-4673-a78e-b7d75f7430a5",
   "metadata": {},
   "outputs": [
    {
     "name": "stdout",
     "output_type": "stream",
     "text": [
      "   sepal length (cm)  sepal width (cm)  petal length (cm)  petal width (cm)  \\\n",
      "0                5.1               3.5                1.4               0.2   \n",
      "1                4.9               3.0                1.4               0.2   \n",
      "2                4.7               3.2                1.3               0.2   \n",
      "3                4.6               3.1                1.5               0.2   \n",
      "4                5.0               3.6                1.4               0.2   \n",
      "\n",
      "       species  \n",
      "0  Iris-setosa  \n",
      "1  Iris-setosa  \n",
      "2  Iris-setosa  \n",
      "3  Iris-setosa  \n",
      "4  Iris-setosa  \n",
      "\n",
      "Model Accuracy: 100.00%\n",
      "Predicted Species: Iris-setosa\n"
     ]
    }
   ],
   "source": [
    "# Import necessary libraries\n",
    "import pandas as pd\n",
    "import numpy as np\n",
    "from sklearn.model_selection import train_test_split\n",
    "from sklearn.ensemble import RandomForestClassifier\n",
    "from sklearn.metrics import accuracy_score\n",
    "\n",
    "# Load the dataset\n",
    "file_path = \"/mnt/data/Iris Flower - Iris.csv\"\n",
    "df = pd.read_csv(\"Iris Flower - Iris.csv\")\n",
    "\n",
    "# Drop the 'Id' column as it's not needed\n",
    "df = df.drop(columns=['Id'])\n",
    "\n",
    "# Rename columns to match your required format\n",
    "df.columns = ['sepal length (cm)', 'sepal width (cm)', 'petal length (cm)', 'petal width (cm)', 'species']\n",
    "\n",
    "# Display the first 5 rows\n",
    "print(df.head())\n",
    "\n",
    "# Split dataset into features (X) and target (y)\n",
    "X = df.drop(columns=['species'])\n",
    "y = df['species']\n",
    "\n",
    "# Split into training (80%) and testing (20%) sets\n",
    "X_train, X_test, y_train, y_test = train_test_split(X, y, test_size=0.2, random_state=42)\n",
    "\n",
    "# Create and train the model\n",
    "model = RandomForestClassifier(n_estimators=100, random_state=42)\n",
    "model.fit(X_train, y_train)\n",
    "\n",
    "# Make predictions on the test set\n",
    "y_pred = model.predict(X_test)\n",
    "\n",
    "# Calculate and print the accuracy\n",
    "accuracy = accuracy_score(y_test, y_pred)\n",
    "print(f\"\\nModel Accuracy: {accuracy * 100:.2f}%\")\n",
    "\n",
    "# Predict species for a new sample\n",
    "new_sample = pd.DataFrame([[5.1, 3.5, 1.4, 0.2]], columns=X.columns)  # Ensure proper formatting\n",
    "prediction = model.predict(new_sample)\n",
    "\n",
    "print(f\"Predicted Species: {prediction[0]}\")\n"
   ]
  },
  {
   "cell_type": "code",
   "execution_count": null,
   "id": "e516d02f-cc91-4d99-bc88-e5889fbafed3",
   "metadata": {},
   "outputs": [],
   "source": []
  }
 ],
 "metadata": {
  "kernelspec": {
   "display_name": "Python 3 (ipykernel)",
   "language": "python",
   "name": "python3"
  },
  "language_info": {
   "codemirror_mode": {
    "name": "ipython",
    "version": 3
   },
   "file_extension": ".py",
   "mimetype": "text/x-python",
   "name": "python",
   "nbconvert_exporter": "python",
   "pygments_lexer": "ipython3",
   "version": "3.12.4"
  }
 },
 "nbformat": 4,
 "nbformat_minor": 5
}
