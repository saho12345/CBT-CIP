{
 "cells": [
  {
   "cell_type": "code",
   "execution_count": 1,
   "id": "d273af46-f9ed-439b-b86b-89e270a0a3ca",
   "metadata": {},
   "outputs": [
    {
     "name": "stdout",
     "output_type": "stream",
     "text": [
      "Accuracy: 0.968609865470852\n",
      "\n",
      "Confusion Matrix:\n",
      " [[965   0]\n",
      " [ 35 115]]\n",
      "\n",
      "Classification Report:\n",
      "               precision    recall  f1-score   support\n",
      "\n",
      "           0       0.96      1.00      0.98       965\n",
      "           1       1.00      0.77      0.87       150\n",
      "\n",
      "    accuracy                           0.97      1115\n",
      "   macro avg       0.98      0.88      0.93      1115\n",
      "weighted avg       0.97      0.97      0.97      1115\n",
      "\n",
      "\n",
      "Test Email Prediction: Spam\n"
     ]
    }
   ],
   "source": [
    "import pandas as pd\n",
    "import numpy as np\n",
    "import re\n",
    "import string\n",
    "import matplotlib.pyplot as plt\n",
    "from sklearn.model_selection import train_test_split\n",
    "from sklearn.feature_extraction.text import TfidfVectorizer\n",
    "from sklearn.naive_bayes import MultinomialNB\n",
    "from sklearn.metrics import accuracy_score, classification_report, confusion_matrix\n",
    "\n",
    "# 1. Load the dataset\n",
    "file_path = \"/mnt/data/Spam Email Detection - spam.csv\"  # Uploaded file path\n",
    "df = pd.read_csv(\"Spam Email Detection - spam.csv\", encoding=\"latin-1\")\n",
    "\n",
    "# 2. Select relevant columns and rename them\n",
    "df = df.iloc[:, :2]  # Keep only the first two columns\n",
    "df.columns = ['label', 'message']  # Rename columns\n",
    "\n",
    "# 3. Convert labels ('spam', 'ham') to binary (spam=1, ham=0)\n",
    "df['label'] = df['label'].map({'spam': 1, 'ham': 0})\n",
    "\n",
    "# 4. Function to clean text\n",
    "def clean_text(text):\n",
    "    text = text.lower()  # Convert to lowercase\n",
    "    text = re.sub(r'\\d+', '', text)  # Remove numbers\n",
    "    text = text.translate(str.maketrans('', '', string.punctuation))  # Remove punctuation\n",
    "    text = text.strip()  # Remove extra spaces\n",
    "    return text\n",
    "\n",
    "df['message'] = df['message'].apply(clean_text)\n",
    "\n",
    "# 5. Split data into training and testing sets\n",
    "X_train, X_test, y_train, y_test = train_test_split(df['message'], df['label'], test_size=0.2, random_state=42)\n",
    "\n",
    "# 6. Convert text into numerical features (TF-IDF Vectorization)\n",
    "vectorizer = TfidfVectorizer(stop_words='english')\n",
    "X_train_tfidf = vectorizer.fit_transform(X_train)\n",
    "X_test_tfidf = vectorizer.transform(X_test)\n",
    "\n",
    "# 7. Train the machine learning model (Naive Bayes)\n",
    "model = MultinomialNB()\n",
    "model.fit(X_train_tfidf, y_train)\n",
    "\n",
    "# 8. Make predictions\n",
    "y_pred = model.predict(X_test_tfidf)\n",
    "\n",
    "# 9. Print results\n",
    "print(\"Accuracy:\", accuracy_score(y_test, y_pred))\n",
    "print(\"\\nConfusion Matrix:\\n\", confusion_matrix(y_test, y_pred))\n",
    "print(\"\\nClassification Report:\\n\", classification_report(y_test, y_pred))\n",
    "\n",
    "# 10. Function to predict new emails\n",
    "def predict_spam(email):\n",
    "    email = clean_text(email)  # Clean the text\n",
    "    email_tfidf = vectorizer.transform([email])  # Convert to features\n",
    "    prediction = model.predict(email_tfidf)  # Predict\n",
    "    return \"Spam\" if prediction[0] == 1 else \"Not Spam\"\n",
    "\n",
    "# Test on a new email\n",
    "print(\"\\nTest Email Prediction:\", predict_spam(\"Win a lottery now! Click here to claim your prize.\"))\n"
   ]
  },
  {
   "cell_type": "code",
   "execution_count": null,
   "id": "a3b8a2e2-4c95-40ef-91f6-15feb3eb7332",
   "metadata": {},
   "outputs": [],
   "source": []
  }
 ],
 "metadata": {
  "kernelspec": {
   "display_name": "Python 3 (ipykernel)",
   "language": "python",
   "name": "python3"
  },
  "language_info": {
   "codemirror_mode": {
    "name": "ipython",
    "version": 3
   },
   "file_extension": ".py",
   "mimetype": "text/x-python",
   "name": "python",
   "nbconvert_exporter": "python",
   "pygments_lexer": "ipython3",
   "version": "3.12.4"
  }
 },
 "nbformat": 4,
 "nbformat_minor": 5
}
